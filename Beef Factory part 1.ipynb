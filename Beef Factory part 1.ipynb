{
 "cells": [
  {
   "cell_type": "markdown",
   "metadata": {
    "collapsed": true
   },
   "source": [
    "Introduction\n"
   ]
  },
  {
   "cell_type": "markdown",
   "metadata": {},
   "source": [
    "Beef Factory is a company based in Paris for selling burgers and sandwiches, currently it works on a project to launch a shop in Brussels "
   ]
  },
  {
   "cell_type": "markdown",
   "metadata": {},
   "source": [
    "Data Description\n",
    "\n"
   ]
  },
  {
   "cell_type": "markdown",
   "metadata": {},
   "source": [
    "The data used in this project is provided by Foursquare location data. The data are grouped by landscape area, and each area included the information about this area and all information about restaurants, cafes, and stores which in this area."
   ]
  },
  {
   "cell_type": "markdown",
   "metadata": {},
   "source": [
    "Table of contents : Import Libraries ; Define Foursquare Credentials ; Define the city and get its latitude & longitude ; Search for Universities & clean dataframe ; Search for Parks & clean dataframe ; Search for Restaurants & clean dataframe ; Search for Cafeteria & clean dataframe ; Search for Shopping Stores & clean dataframe ; Generate map to visualize hotels, shopping stores and Cafeteria and how they cluster together and Generate map to visualize Park, Restaurant and Cafeteria and how they cluster together."
   ]
  },
  {
   "cell_type": "markdown",
   "metadata": {},
   "source": [
    "Audience"
   ]
  },
  {
   "cell_type": "markdown",
   "metadata": {},
   "source": [
    "The audience are potential investors in the retail industry. \n",
    "Which are interested in investing in Brussels. \n",
    "Investors are the mainstakeholders when it comes to locating the best spots to open a restaurant or shop. "
   ]
  }
 ],
 "metadata": {
  "kernelspec": {
   "display_name": "Python 3.6",
   "language": "python",
   "name": "python3"
  },
  "language_info": {
   "codemirror_mode": {
    "name": "ipython",
    "version": 3
   },
   "file_extension": ".py",
   "mimetype": "text/x-python",
   "name": "python",
   "nbconvert_exporter": "python",
   "pygments_lexer": "ipython3",
   "version": "3.6.8"
  }
 },
 "nbformat": 4,
 "nbformat_minor": 1
}
